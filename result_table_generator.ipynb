{
 "metadata": {
  "language_info": {
   "codemirror_mode": {
    "name": "ipython",
    "version": 3
   },
   "file_extension": ".py",
   "mimetype": "text/x-python",
   "name": "python",
   "nbconvert_exporter": "python",
   "pygments_lexer": "ipython3",
   "version": "3.8.2-final"
  },
  "orig_nbformat": 2,
  "kernelspec": {
   "name": "python38264bitc9ee0a96297a4063a79e7a85b0312356",
   "display_name": "Python 3.8.2 64-bit"
  }
 },
 "nbformat": 4,
 "nbformat_minor": 2,
 "cells": [
  {
   "cell_type": "code",
   "execution_count": 1,
   "metadata": {},
   "outputs": [],
   "source": [
    "import pandas as pd\n",
    "from glob import glob"
   ]
  },
  {
   "cell_type": "code",
   "execution_count": 2,
   "metadata": {},
   "outputs": [],
   "source": [
    "result_type = 'Classification'"
   ]
  },
  {
   "cell_type": "code",
   "execution_count": 3,
   "metadata": {},
   "outputs": [],
   "source": [
    "rf_df = []\n",
    "for result_file in glob('results/aggregated/*.csv'):\n",
    "    if result_type in result_file:\n",
    "        rf_df.append(pd.read_csv(result_file))\n",
    "df = pd.concat(rf_df).drop('Unnamed: 0', axis = 1)"
   ]
  },
  {
   "cell_type": "code",
   "execution_count": 4,
   "metadata": {},
   "outputs": [],
   "source": [
    "aggregated_results = '$' + df.groupby(['dataset', 'base', 'method']).mean()['PM1'].round(2).astype(str) + '\\pm' + df.groupby(['dataset', 'base', 'method']).std()['PM1'].round(2).astype(str) + '$'\n",
    "aggregated_results.unstack(level=0).to_csv('results/all_' + result_type + '.csv')"
   ]
  },
  {
   "cell_type": "code",
   "execution_count": 5,
   "metadata": {},
   "outputs": [],
   "source": [
    "time_results = df.groupby(['dataset', 'base', 'method']).mean().groupby(['base','method']).mean()[['TriesToOpt','Time']]\n",
    "time_results['MinTime'] = df.groupby(['dataset', 'base', 'method']).mean().groupby(['base','method']).min()[['Time']]\n",
    "time_results['MaxTime'] = df.groupby(['dataset', 'base', 'method']).mean().groupby(['base','method']).max()[['Time']]\n",
    "time_results.to_csv('results/time_' + result_type + '.csv')"
   ]
  }
 ]
}